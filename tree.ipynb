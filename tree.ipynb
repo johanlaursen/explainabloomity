{
 "cells": [
  {
   "cell_type": "code",
   "execution_count": 1,
   "metadata": {},
   "outputs": [],
   "source": [
    "from pathlib import Path\n",
    "import os"
   ]
  },
  {
   "cell_type": "code",
   "execution_count": 7,
   "metadata": {},
   "outputs": [],
   "source": [
    "path = \"/home/data_shares/mapillary/thesis_models/pruned_models\"\n",
    "model = \"opt-13b\"\n",
    "prune_methods=(\n",
    "    \"balanced\",\n",
    "    # \"imbalanced\" ,\n",
    ")\n",
    "metrics=(\n",
    "    \"cosine_cosine\" ,\n",
    "    \"euclidean_euclidean\" ,\n",
    "    \"cosine_random\",\n",
    "    \"euclidean_random\",\n",
    ")\n",
    "prunetasks=(\n",
    "    \"paws_en\",\n",
    "    \"hellaswag\",\n",
    "    \"arc_easy\",\n",
    "    \"blimp_ellipsis_n_bar_1\",\n",
    ")\n",
    "prune_percents=(\n",
    "    \"0.25\",\n",
    "    \"0.5\",\n",
    "    \"0.75\",\n",
    ")\n",
    "tasks=(\n",
    "    \"lambada_openai\",\n",
    "    \"paws_en\",\n",
    "    \"hellaswag\",\n",
    "    \"arc_easy\",\n",
    "    \"blimp_ellipsis_n_bar_1\",\n",
    "    \"blimp_irregular_plural_subject_verb_agreement_1\")"
   ]
  },
  {
   "cell_type": "code",
   "execution_count": 6,
   "metadata": {},
   "outputs": [
    {
     "name": "stdout",
     "output_type": "stream",
     "text": [
      "/home/data_shares/mapillary/thesis_models/pruned_models/opt-13b/balanced/hellaswag/euclidean_euclidean/0.25/model\n",
      "/home/data_shares/mapillary/thesis_models/pruned_models/opt-13b/balanced/arc_easy/cosine_cosine/0.25/model\n",
      "/home/data_shares/mapillary/thesis_models/pruned_models/opt-13b/balanced/arc_easy/cosine_cosine/0.5/model\n",
      "/home/data_shares/mapillary/thesis_models/pruned_models/opt-13b/balanced/arc_easy/cosine_cosine/0.75/model\n",
      "/home/data_shares/mapillary/thesis_models/pruned_models/opt-13b/balanced/arc_easy/euclidean_euclidean/0.25/model\n",
      "/home/data_shares/mapillary/thesis_models/pruned_models/opt-13b/balanced/arc_easy/euclidean_euclidean/0.5/model\n",
      "/home/data_shares/mapillary/thesis_models/pruned_models/opt-13b/balanced/arc_easy/euclidean_euclidean/0.75/model\n",
      "/home/data_shares/mapillary/thesis_models/pruned_models/opt-13b/balanced/arc_easy/cosine_random/0.25/model\n",
      "/home/data_shares/mapillary/thesis_models/pruned_models/opt-13b/balanced/arc_easy/cosine_random/0.5/model\n",
      "/home/data_shares/mapillary/thesis_models/pruned_models/opt-13b/balanced/arc_easy/cosine_random/0.75/model\n",
      "/home/data_shares/mapillary/thesis_models/pruned_models/opt-13b/balanced/arc_easy/euclidean_random/0.25/model\n",
      "/home/data_shares/mapillary/thesis_models/pruned_models/opt-13b/balanced/arc_easy/euclidean_random/0.5/model\n",
      "/home/data_shares/mapillary/thesis_models/pruned_models/opt-13b/balanced/arc_easy/euclidean_random/0.75/model\n"
     ]
    }
   ],
   "source": [
    "for prune_method in prune_methods:\n",
    "    for prune_task in prunetasks:\n",
    "        for prune_metric in metrics:\n",
    "            for prune_percent in prune_percents:\n",
    "                path_model = Path(path) / model / prune_method / prune_task / prune_metric / prune_percent / \"model\"\n",
    "                if not path_model.exists():\n",
    "                    print(path_model)\n"
   ]
  },
  {
   "cell_type": "code",
   "execution_count": 19,
   "metadata": {},
   "outputs": [
    {
     "name": "stdout",
     "output_type": "stream",
     "text": [
      "results/lambada_openai/opt-13b/balanced/paws_en/cosine_cosine/0.25\n",
      "results/paws_en/opt-13b/balanced/paws_en/cosine_cosine/0.25\n",
      "results/lambada_openai/opt-13b/balanced/paws_en/cosine_cosine/0.5\n",
      "results/paws_en/opt-13b/balanced/paws_en/cosine_cosine/0.5\n",
      "results/lambada_openai/opt-13b/balanced/paws_en/cosine_cosine/0.75\n",
      "results/paws_en/opt-13b/balanced/paws_en/cosine_cosine/0.75\n",
      "results/lambada_openai/opt-13b/balanced/paws_en/euclidean_euclidean/0.25\n",
      "results/paws_en/opt-13b/balanced/paws_en/euclidean_euclidean/0.25\n",
      "results/lambada_openai/opt-13b/balanced/paws_en/euclidean_euclidean/0.5\n",
      "results/paws_en/opt-13b/balanced/paws_en/euclidean_euclidean/0.5\n",
      "results/lambada_openai/opt-13b/balanced/paws_en/euclidean_euclidean/0.75\n",
      "results/paws_en/opt-13b/balanced/paws_en/euclidean_euclidean/0.75\n",
      "results/lambada_openai/opt-13b/balanced/paws_en/cosine_random/0.25\n",
      "results/paws_en/opt-13b/balanced/paws_en/cosine_random/0.25\n",
      "results/lambada_openai/opt-13b/balanced/paws_en/cosine_random/0.5\n",
      "results/paws_en/opt-13b/balanced/paws_en/cosine_random/0.5\n",
      "results/lambada_openai/opt-13b/balanced/paws_en/cosine_random/0.75\n",
      "results/paws_en/opt-13b/balanced/paws_en/cosine_random/0.75\n",
      "results/lambada_openai/opt-13b/balanced/paws_en/euclidean_random/0.25\n",
      "results/paws_en/opt-13b/balanced/paws_en/euclidean_random/0.25\n",
      "results/lambada_openai/opt-13b/balanced/paws_en/euclidean_random/0.5\n",
      "results/paws_en/opt-13b/balanced/paws_en/euclidean_random/0.5\n",
      "results/lambada_openai/opt-13b/balanced/paws_en/euclidean_random/0.75\n"
     ]
    }
   ],
   "source": [
    "for prune_method in prune_methods:\n",
    "    for prune_task in prunetasks:\n",
    "        for prune_metric in metrics:\n",
    "            for prune_percent in prune_percents:\n",
    "                for task in tasks:\n",
    "                    path_model = Path(\"./results\")/ task / model / prune_method / prune_task / prune_metric / prune_percent \n",
    "                    if path_model.exists():\n",
    "                        print(path_model)"
   ]
  }
 ],
 "metadata": {
  "kernelspec": {
   "display_name": "thesis",
   "language": "python",
   "name": "python3"
  },
  "language_info": {
   "codemirror_mode": {
    "name": "ipython",
    "version": 3
   },
   "file_extension": ".py",
   "mimetype": "text/x-python",
   "name": "python",
   "nbconvert_exporter": "python",
   "pygments_lexer": "ipython3",
   "version": "3.10.13"
  }
 },
 "nbformat": 4,
 "nbformat_minor": 2
}
