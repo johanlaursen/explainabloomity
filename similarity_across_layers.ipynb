{
 "cells": [
  {
   "cell_type": "code",
   "execution_count": 8,
   "metadata": {},
   "outputs": [],
   "source": [
    "from utils import get_amazon_importance\n",
    "from pathlib import Path\n"
   ]
  },
  {
   "cell_type": "code",
   "execution_count": 19,
   "metadata": {},
   "outputs": [],
   "source": [
    "model_basename = \"opt-13b\"\n",
    "prune_method = \"imbalanced_correct\"\n",
    "prune_task = \"hellaswag\"\n",
    "metric = \"cosine\"\n",
    "group_metric = \"cosine\"\n",
    "prune_percent = 0.5\n",
    "metric_path = metric + \"_\" + group_metric\n",
    "path_log = Path(\"pruning_logs\") / model_basename / prune_method / prune_task / metric_path / str(prune_percent) / \"pruning_log.txt\"\n",
    "pruning_log = []\n",
    "with open(path_log, \"r\") as f:\n",
    "    lines = f.readlines()\n",
    "    for line in lines:\n",
    "        layer, head_to_keep, head_to_prune = map(int, line.strip().split(\",\"))\n",
    "        pruning_log.append((layer, head_to_prune))\n",
    "        \n",
    "similarity_list = [40]*40\n",
    "for pruned_head in pruning_log:\n",
    "    similarity_list[pruned_head[0]] -= 1\n"
   ]
  },
  {
   "cell_type": "code",
   "execution_count": 20,
   "metadata": {},
   "outputs": [
    {
     "name": "stdout",
     "output_type": "stream",
     "text": [
      "[40, 4, 3, 4, 8, 14, 20, 22, 18, 15, 14, 16, 13, 18, 16, 16, 17, 20, 25, 34, 32, 37, 36, 40, 34, 38, 39, 31, 34, 32, 27, 17, 12, 12, 6, 11, 9, 2, 3, 11]\n"
     ]
    }
   ],
   "source": [
    "amazon_list = get_amazon_importance()\n",
    "amazon_list.sort(key=lambda x: x[2])\n",
    "amazon_list = amazon_list[:800]\n",
    "amazon_importance = [40]*40\n",
    "amazon_list\n",
    "for pruned_head in amazon_list:\n",
    "    amazon_importance[pruned_head[0]] -= 1\n",
    "print(amazon_importance)\n"
   ]
  },
  {
   "cell_type": "code",
   "execution_count": 21,
   "metadata": {},
   "outputs": [
    {
     "name": "stdout",
     "output_type": "stream",
     "text": [
      "[30, 6, 4, 8, 10, 24, 22, 26, 26, 26, 24, 22, 22, 24, 18, 16, 20, 16, 16, 20, 20, 26, 26, 24, 24, 24, 24, 22, 24, 26, 20, 16, 20, 24, 18, 24, 18, 14, 16, 10]\n",
      "[40, 4, 3, 4, 8, 14, 20, 22, 18, 15, 14, 16, 13, 18, 16, 16, 17, 20, 25, 34, 32, 37, 36, 40, 34, 38, 39, 31, 34, 32, 27, 17, 12, 12, 6, 11, 9, 2, 3, 11]\n"
     ]
    }
   ],
   "source": [
    "print(similarity_list)\n",
    "print(amazon_importance)\n"
   ]
  }
 ],
 "metadata": {
  "kernelspec": {
   "display_name": "lmeval",
   "language": "python",
   "name": "python3"
  },
  "language_info": {
   "codemirror_mode": {
    "name": "ipython",
    "version": 3
   },
   "file_extension": ".py",
   "mimetype": "text/x-python",
   "name": "python",
   "nbconvert_exporter": "python",
   "pygments_lexer": "ipython3",
   "version": "3.11.5"
  }
 },
 "nbformat": 4,
 "nbformat_minor": 2
}
